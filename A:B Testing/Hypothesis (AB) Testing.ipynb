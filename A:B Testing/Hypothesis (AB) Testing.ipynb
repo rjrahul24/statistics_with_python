{
 "cells": [
  {
   "cell_type": "markdown",
   "id": "a8ac2eec",
   "metadata": {},
   "source": [
    "# Performing an A/B Test to finalize Website Design"
   ]
  },
  {
   "cell_type": "markdown",
   "id": "749002e5",
   "metadata": {},
   "source": [
    "## Introduction"
   ]
  },
  {
   "cell_type": "markdown",
   "id": "0f924b30",
   "metadata": {},
   "source": [
    "This notebook is part of a project to showcase a working example of an A/B Test. These tests are performed when there are different versions of a strategy or a product to select from, and a team requires some metrics to finalize which of the versions to choose.\n",
    "\n",
    "It is also a structured analysis notebook that shows how data analysis is expected to be done on a singular non-production environment. We will start by importing the necessary libraries and I will give a brief walkthrough of the problem we are trying to solve."
   ]
  },
  {
   "cell_type": "markdown",
   "id": "edf42322",
   "metadata": {},
   "source": [
    "**Import libraries**"
   ]
  },
  {
   "cell_type": "code",
   "execution_count": 1,
   "id": "ee039af2",
   "metadata": {},
   "outputs": [],
   "source": [
    "import pandas as pd\n",
    "import numpy as np\n",
    "import matplotlib.pyplot as plt\n",
    "from statsmodels.stats.power import NormalIndPower\n",
    "from scipy.stats import norm"
   ]
  },
  {
   "cell_type": "markdown",
   "id": "2c75f19b",
   "metadata": {},
   "source": [
    "## Problem Statement"
   ]
  },
  {
   "cell_type": "markdown",
   "id": "37f33657",
   "metadata": {},
   "source": [
    "The task is to redesign the landing page of a website. The landing page is generally where user traffic originates from. For instance, if your product has a purchase or subscription plan, the landing page is the source from where people navigating your website will go to the subscription initiation page. The aim here is that a new design should increase the number of people who click through and join your site.\n",
    "\n",
    "To solve this problem, we will perform an A/B test to compare the initial user reception of the new landing page with and without the new set of images which form three different designs, built on top of the old design. **Our metric will be the conversion rate and we will perform a Z-test to see if the metric is being met without significant errors.**"
   ]
  },
  {
   "cell_type": "markdown",
   "id": "dbad36da",
   "metadata": {},
   "source": [
    "## Data"
   ]
  },
  {
   "cell_type": "markdown",
   "id": "97157953",
   "metadata": {},
   "source": [
    "The input data is saved in a single .csv file, named 'redesign.csv'."
   ]
  },
  {
   "cell_type": "code",
   "execution_count": 2,
   "id": "c1f6bea0",
   "metadata": {},
   "outputs": [
    {
     "name": "stdout",
     "output_type": "stream",
     "text": [
      "<class 'pandas.core.frame.DataFrame'>\n",
      "RangeIndex: 40484 entries, 0 to 40483\n",
      "Data columns (total 3 columns):\n",
      " #   Column      Non-Null Count  Dtype \n",
      "---  ------      --------------  ----- \n",
      " 0   treatment   40484 non-null  object\n",
      " 1   new_images  40484 non-null  object\n",
      " 2   converted   40484 non-null  int64 \n",
      "dtypes: int64(1), object(2)\n",
      "memory usage: 949.0+ KB\n"
     ]
    }
   ],
   "source": [
    "df = pd.read_csv('data/redesign.csv')\n",
    "df.info()"
   ]
  },
  {
   "cell_type": "markdown",
   "id": "6347e2f0",
   "metadata": {},
   "source": [
    "**Understanding the input**\n",
    "\n",
    "The dataframe given in the input is composed of 3 columns and 40484 rows. The columns 'treatment' and 'new_images' are of type object while 'converted' is an int64. Moreover, there is no missing data in the dataframe. Below are the meanings of each of the columns:\n",
    "\n",
    "- 'treatment' - \"yes\" if the user saw the new version of the landing page, no otherwise.\n",
    "- 'new_images' - \"yes\" if the page used a new set of images, no otherwise.\n",
    "- 'converted' - 1 if the user joined the site, 0 otherwise."
   ]
  },
  {
   "cell_type": "markdown",
   "id": "f8b50d73",
   "metadata": {},
   "source": [
    "Each combination of the rows of 'treatment' and 'new_images' represents a group: \n",
    "1. Control Group - \"NO\" in 'Treatment' and \"NO\" in 'New Images' \n",
    "2. Experimental Group - \n",
    "                        \"YES\" in 'Treatment' and \"NO\" in 'New Images'\n",
    "                        \"NO\" in 'Treatment' and \"YES\" in 'New Images' \n",
    "                        \"YES\" in 'Treatment' and \"YES\" in 'New Images'"
   ]
  },
  {
   "cell_type": "code",
   "execution_count": 3,
   "id": "2297e1dc",
   "metadata": {},
   "outputs": [],
   "source": [
    "# Let us form a new data point to understand treatment and new images.\n",
    "\n",
    "groups = df.groupby(['treatment', 'new_images'])"
   ]
  },
  {
   "cell_type": "markdown",
   "id": "183d2eca",
   "metadata": {},
   "source": [
    "How is the grouped data distributed? \n",
    "- Are the groups of similar size? \n",
    "- How will grouping determine the probability of a user joining the website?"
   ]
  },
  {
   "cell_type": "markdown",
   "id": "a66704a7",
   "metadata": {},
   "source": [
    "**Binomial Distribution**\n",
    "\n",
    "Each variable, for which only two values are possible, follows a binomial distribution. The density plots below show the distribution of each variable and indeed all variables follow binomial distributions. "
   ]
  },
  {
   "cell_type": "code",
   "execution_count": 4,
   "id": "1c937a78",
   "metadata": {},
   "outputs": [
    {
     "data": {
      "image/png": "[encoded data removed]",
      "text/plain": [
       "<Figure size 432x288 with 1 Axes>"
      ]
     },
     "metadata": {
      "needs_background": "light"
     },
     "output_type": "display_data"
    },
    {
     "data": {
      "text/html": [
       "<div>\n",
       "<style scoped>\n",
       "    .dataframe tbody tr th:only-of-type {\n",
       "        vertical-align: middle;\n",
       "    }\n",
       "\n",
       "    .dataframe tbody tr th {\n",
       "        vertical-align: top;\n",
       "    }\n",
       "\n",
       "    .dataframe thead tr th {\n",
       "        text-align: left;\n",
       "    }\n",
       "\n",
       "    .dataframe thead tr:last-of-type th {\n",
       "        text-align: right;\n",
       "    }\n",
       "</style>\n",
       "<table border=\"1\" class=\"dataframe\">\n",
       "  <thead>\n",
       "    <tr>\n",
       "      <th></th>\n",
       "      <th></th>\n",
       "      <th colspan=\"3\" halign=\"left\">converted</th>\n",
       "    </tr>\n",
       "    <tr>\n",
       "      <th></th>\n",
       "      <th></th>\n",
       "      <th>count</th>\n",
       "      <th>mean</th>\n",
       "      <th>sum</th>\n",
       "    </tr>\n",
       "    <tr>\n",
       "      <th>treatment</th>\n",
       "      <th>new_images</th>\n",
       "      <th></th>\n",
       "      <th></th>\n",
       "      <th></th>\n",
       "    </tr>\n",
       "  </thead>\n",
       "  <tbody>\n",
       "    <tr>\n",
       "      <th rowspan=\"2\" valign=\"top\">no</th>\n",
       "      <th>no</th>\n",
       "      <td>10121</td>\n",
       "      <td>0.107104</td>\n",
       "      <td>1084</td>\n",
       "    </tr>\n",
       "    <tr>\n",
       "      <th>yes</th>\n",
       "      <td>10121</td>\n",
       "      <td>0.112538</td>\n",
       "      <td>1139</td>\n",
       "    </tr>\n",
       "    <tr>\n",
       "      <th rowspan=\"2\" valign=\"top\">yes</th>\n",
       "      <th>no</th>\n",
       "      <td>10121</td>\n",
       "      <td>0.120047</td>\n",
       "      <td>1215</td>\n",
       "    </tr>\n",
       "    <tr>\n",
       "      <th>yes</th>\n",
       "      <td>10121</td>\n",
       "      <td>0.113724</td>\n",
       "      <td>1151</td>\n",
       "    </tr>\n",
       "  </tbody>\n",
       "</table>\n",
       "</div>"
      ],
      "text/plain": [
       "                     converted                \n",
       "                         count      mean   sum\n",
       "treatment new_images                          \n",
       "no        no             10121  0.107104  1084\n",
       "          yes            10121  0.112538  1139\n",
       "yes       no             10121  0.120047  1215\n",
       "          yes            10121  0.113724  1151"
      ]
     },
     "execution_count": 4,
     "metadata": {},
     "output_type": "execute_result"
    }
   ],
   "source": [
    "groups['converted'].plot.kde()\n",
    "plt.legend()\n",
    "plt.show()\n",
    "\n",
    "results = groups.agg({'converted':['count', 'mean', 'sum']})\n",
    "results"
   ]
  },
  {
   "cell_type": "markdown",
   "id": "4ab6ac63",
   "metadata": {},
   "source": [
    "We notice that the groups have exactly the same size, 10121 rows. The probability of a user joining the site changes with the design, with the control group being the less sucessful. At this point, it seems like redesigning was a good idea because the experimental group shows better success rate. \n",
    "\n",
    "However, the difference we want to measure is between 0.5 and 1.3%, which is very small."
   ]
  },
  {
   "cell_type": "markdown",
   "id": "ac6e4d7e",
   "metadata": {},
   "source": [
    "## Methodology\n",
    "\n",
    "### Summary\n",
    "\n",
    "This is a classic A/B test problem. The approach I explain here will be to calculate the conversion rate (user coming to the landing page and going through with a purchase) of both the landing pages. Statistically, since the problem only wants to increase the number of customers, we will use the one-tailed hypothesis test. The metric of measure is the conversion rate and additionally, we will use the z-test to establish a confidence interval in which our test will not give any errors (type II)\n",
    "\n",
    "The general workflow of testing any hypothesis follows the same set of steps and instructions. We start with the null hypothesis, introduce evidence to compare the null hypothesis with an alternate hypothesis. Then, we conclude if the new evidence could confidently overturn the null hypothesis. In either scenario, we should always make it a point to test the analysis for possible errors."
   ]
  },
  {
   "cell_type": "code",
   "execution_count": 5,
   "id": "e3c354e6",
   "metadata": {},
   "outputs": [
    {
     "data": {
      "text/html": [
       "<div>\n",
       "<style scoped>\n",
       "    .dataframe tbody tr th:only-of-type {\n",
       "        vertical-align: middle;\n",
       "    }\n",
       "\n",
       "    .dataframe tbody tr th {\n",
       "        vertical-align: top;\n",
       "    }\n",
       "\n",
       "    .dataframe thead tr th {\n",
       "        text-align: left;\n",
       "    }\n",
       "\n",
       "    .dataframe thead tr:last-of-type th {\n",
       "        text-align: right;\n",
       "    }\n",
       "</style>\n",
       "<table border=\"1\" class=\"dataframe\">\n",
       "  <thead>\n",
       "    <tr>\n",
       "      <th></th>\n",
       "      <th></th>\n",
       "      <th colspan=\"4\" halign=\"left\">converted</th>\n",
       "    </tr>\n",
       "    <tr>\n",
       "      <th></th>\n",
       "      <th></th>\n",
       "      <th>count</th>\n",
       "      <th>mean</th>\n",
       "      <th>sum</th>\n",
       "      <th>power_score</th>\n",
       "    </tr>\n",
       "    <tr>\n",
       "      <th>treatment</th>\n",
       "      <th>new_images</th>\n",
       "      <th></th>\n",
       "      <th></th>\n",
       "      <th></th>\n",
       "      <th></th>\n",
       "    </tr>\n",
       "  </thead>\n",
       "  <tbody>\n",
       "    <tr>\n",
       "      <th rowspan=\"2\" valign=\"top\">no</th>\n",
       "      <th>no</th>\n",
       "      <td>10121</td>\n",
       "      <td>0.107104</td>\n",
       "      <td>1084</td>\n",
       "      <td></td>\n",
       "    </tr>\n",
       "    <tr>\n",
       "      <th>yes</th>\n",
       "      <td>10121</td>\n",
       "      <td>0.112538</td>\n",
       "      <td>1139</td>\n",
       "      <td>0.341483</td>\n",
       "    </tr>\n",
       "    <tr>\n",
       "      <th rowspan=\"2\" valign=\"top\">yes</th>\n",
       "      <th>no</th>\n",
       "      <td>10121</td>\n",
       "      <td>0.120047</td>\n",
       "      <td>1215</td>\n",
       "      <td>0.895739</td>\n",
       "    </tr>\n",
       "    <tr>\n",
       "      <th>yes</th>\n",
       "      <td>10121</td>\n",
       "      <td>0.113724</td>\n",
       "      <td>1151</td>\n",
       "      <td>0.443471</td>\n",
       "    </tr>\n",
       "  </tbody>\n",
       "</table>\n",
       "</div>"
      ],
      "text/plain": [
       "                     converted                            \n",
       "                         count      mean   sum power_score\n",
       "treatment new_images                                      \n",
       "no        no             10121  0.107104  1084            \n",
       "          yes            10121  0.112538  1139    0.341483\n",
       "yes       no             10121  0.120047  1215    0.895739\n",
       "          yes            10121  0.113724  1151    0.443471"
      ]
     },
     "execution_count": 5,
     "metadata": {},
     "output_type": "execute_result"
    }
   ],
   "source": [
    "# Define the significance level for acceptance\n",
    "alpha = 0.05\n",
    "\n",
    "# Cohen's d is an effect size used to indicate the standardised difference between two means.\n",
    "def cohen_d(param_one, param_two):\n",
    "    std = np.sqrt((np.std(param_one)**2 + np.std(param_two)**2)/2)\n",
    "    mean = np.mean(param_two) - np.mean(param_one)\n",
    "    return np.abs(mean/std)\n",
    "\n",
    "# Power analysis\n",
    "def do_power(param_one, param_two, alpha, num_obs=10121, ratio=1.0, alternative='larger'):\n",
    "    effect_size = cohen_d(param_one,param_two)\n",
    "    return NormalIndPower().power(effect_size=effect_size, nobs1 = num_obs, alpha=alpha,\n",
    "                                  ratio=ratio, alternative=alternative)\n",
    "\n",
    "results[('converted', 'power_score')] = \"\"\n",
    "\n",
    "group_ctrl = groups.get_group((\"no\", \"no\"))\n",
    "\n",
    "for key in list(groups.groups.keys())[1:]:\n",
    "    group_exp = groups.get_group(key)\n",
    "    power = do_power(group_ctrl['converted'], group_exp['converted'], alpha)\n",
    "    results.loc[key, ('converted', 'power_score')] = power   \n",
    "    \n",
    "results"
   ]
  },
  {
   "cell_type": "markdown",
   "id": "bee9c34a",
   "metadata": {},
   "source": [
    "Tipically, a power level of 0.8 is a good value. The group (yes, no) is the only with a larger value than 0.8. \n",
    "As for the size of the samples, ideally they should be even larger. As a result, we will use the whole samples."
   ]
  },
  {
   "cell_type": "code",
   "execution_count": 6,
   "id": "6fc565c4",
   "metadata": {},
   "outputs": [
    {
     "name": "stdout",
     "output_type": "stream",
     "text": [
      "z_alpha: 1.6448536269514722\n"
     ]
    },
    {
     "data": {
      "text/html": [
       "<div>\n",
       "<style scoped>\n",
       "    .dataframe tbody tr th:only-of-type {\n",
       "        vertical-align: middle;\n",
       "    }\n",
       "\n",
       "    .dataframe tbody tr th {\n",
       "        vertical-align: top;\n",
       "    }\n",
       "\n",
       "    .dataframe thead tr th {\n",
       "        text-align: left;\n",
       "    }\n",
       "\n",
       "    .dataframe thead tr:last-of-type th {\n",
       "        text-align: right;\n",
       "    }\n",
       "</style>\n",
       "<table border=\"1\" class=\"dataframe\">\n",
       "  <thead>\n",
       "    <tr>\n",
       "      <th></th>\n",
       "      <th></th>\n",
       "      <th colspan=\"5\" halign=\"left\">converted</th>\n",
       "    </tr>\n",
       "    <tr>\n",
       "      <th></th>\n",
       "      <th></th>\n",
       "      <th>count</th>\n",
       "      <th>mean</th>\n",
       "      <th>sum</th>\n",
       "      <th>power_score</th>\n",
       "      <th>z_score</th>\n",
       "    </tr>\n",
       "    <tr>\n",
       "      <th>treatment</th>\n",
       "      <th>new_images</th>\n",
       "      <th></th>\n",
       "      <th></th>\n",
       "      <th></th>\n",
       "      <th></th>\n",
       "      <th></th>\n",
       "    </tr>\n",
       "  </thead>\n",
       "  <tbody>\n",
       "    <tr>\n",
       "      <th rowspan=\"2\" valign=\"top\">no</th>\n",
       "      <th>no</th>\n",
       "      <td>10121</td>\n",
       "      <td>0.107104</td>\n",
       "      <td>1084</td>\n",
       "      <td></td>\n",
       "      <td></td>\n",
       "    </tr>\n",
       "    <tr>\n",
       "      <th>yes</th>\n",
       "      <td>10121</td>\n",
       "      <td>0.112538</td>\n",
       "      <td>1139</td>\n",
       "      <td>0.341483</td>\n",
       "      <td>1.236372</td>\n",
       "    </tr>\n",
       "    <tr>\n",
       "      <th rowspan=\"2\" valign=\"top\">yes</th>\n",
       "      <th>no</th>\n",
       "      <td>10121</td>\n",
       "      <td>0.120047</td>\n",
       "      <td>1215</td>\n",
       "      <td>0.895739</td>\n",
       "      <td>2.902351</td>\n",
       "    </tr>\n",
       "    <tr>\n",
       "      <th>yes</th>\n",
       "      <td>10121</td>\n",
       "      <td>0.113724</td>\n",
       "      <td>1151</td>\n",
       "      <td>0.443471</td>\n",
       "      <td>1.502605</td>\n",
       "    </tr>\n",
       "  </tbody>\n",
       "</table>\n",
       "</div>"
      ],
      "text/plain": [
       "                     converted                                      \n",
       "                         count      mean   sum power_score   z_score\n",
       "treatment new_images                                                \n",
       "no        no             10121  0.107104  1084                      \n",
       "          yes            10121  0.112538  1139    0.341483  1.236372\n",
       "yes       no             10121  0.120047  1215    0.895739  2.902351\n",
       "          yes            10121  0.113724  1151    0.443471  1.502605"
      ]
     },
     "execution_count": 6,
     "metadata": {},
     "output_type": "execute_result"
    }
   ],
   "source": [
    "# Preprocess parameters to make them ready for the z-score test\n",
    "def preprocess(experiment, control):\n",
    "    mean_one = experiment[\"converted\"].mean()\n",
    "    sum_one = experiment[\"converted\"].std()\n",
    "    count_one = experiment[\"converted\"].count()\n",
    "    \n",
    "    mean_two = control[\"converted\"].mean()\n",
    "    sum_two = control[\"converted\"].std()\n",
    "    count_two = control[\"converted\"].count()\n",
    "    \n",
    "    return [mean_one, sum_one, count_one], [mean_two, sum_two, count_two]\n",
    "\n",
    "# Calculate the z-scores on the experiment and control groups\n",
    "def zscore_test(experiment, control, val=0):\n",
    "    \n",
    "    exp, ctrl = preprocess(experiment, control)\n",
    "    \n",
    "    return (exp[0] - ctrl[0] - val)/(np.sqrt(exp[1]**2/exp[2] + ctrl[1]**2/ctrl[2]))\n",
    "\n",
    "# Calculate lower bound of confidence intervals for the test\n",
    "def confidence(experiment, control, Z):\n",
    "    exp, ctrl = preprocess(experiment, control)\n",
    "    lower_interval = (exp[0] - ctrl[0]) - Z * (np.sqrt(exp[1]**2/exp[2] + ctrl[1]**2/ctrl[2]))\n",
    "    return lower_interval\n",
    "\n",
    "# Calculate the z-score's alpha value to reject null hypothesis\n",
    "z_alpha = norm.ppf(1-alpha)\n",
    "print(\"z_alpha: {}\".format(z_alpha))\n",
    "results[('converted', 'z_score')] = \"\"\n",
    "\n",
    "group_ctrl = groups.get_group((\"no\", \"no\"))\n",
    "\n",
    "for key in list(groups.groups.keys())[1:]:\n",
    "    group_exp = groups.get_group(key)\n",
    "    zscore = zscore_test(group_exp, group_ctrl)\n",
    "    results.loc[key, ('converted', 'z_score')] = zscore   \n",
    "    \n",
    "results"
   ]
  },
  {
   "cell_type": "markdown",
   "id": "d248afa1",
   "metadata": {},
   "source": [
    "We can only discard the null hypothesis for the group (yes, no)."
   ]
  },
  {
   "cell_type": "code",
   "execution_count": 8,
   "id": "c42e8760",
   "metadata": {},
   "outputs": [
    {
     "name": "stdout",
     "output_type": "stream",
     "text": [
      "With 95% confidence, we can state that the improvement of the design (YES, NO) compared to the control group was 0.56%.\n",
      "\n",
      "For (1) to be true, the probability of committing a Type I Error in reaching the above conclusion is about 5.0%.\n",
      "\n",
      "For (1) to be true, the probability of committing a Type I Error in reaching the above conclusion is about 10.43%.\n"
     ]
    }
   ],
   "source": [
    "control = groups.get_group((\"no\", \"no\"))\n",
    "experiment = groups.get_group((\"yes\", \"no\"))\n",
    "\n",
    "lower = np.round(confidence(experiment, control, z_alpha) * 100, 2)\n",
    "\n",
    "print(\"With 95% confidence, we can state that the improvement of the design (YES, NO) compared to the control group was {}%.\".format(lower))\n",
    "\n",
    "print(\"\\nFor (1) to be true, the probability of committing a Type I Error in reaching the above conclusion is about {}%.\".format(alpha*100))\n",
    "\n",
    "print(\"\\nFor (1) to be true, the probability of committing a Type I Error in reaching the above conclusion is about {}%.\".format(np.round( (1 - results.loc[(\"yes\", \"no\"), (\"converted\", \"power_score\")]) * 100, 2)))"
   ]
  },
  {
   "cell_type": "markdown",
   "id": "86032d96",
   "metadata": {},
   "source": [
    "## Conclusion\n",
    "\n",
    "This story talks about hypothesis testing, confidence intervals, z-scores, and A/B tests. These are important concepts in the statistical world that get used often in experiments revolving around data and specifically when organizations are looking to update their products. In the experiment I explained above, the organization is looking to modify their landing page to increase the traffic followed by an uplift in their subscriptions. Through our A/B tests, we concluded with 95% confidence that on seeing the new version of the landing page with old images, the chances of them joining the subscription improve by at least 0.56% (possibly more) in comparison to the old design. We also accounted for Type I and Type II errors to nullify the chances of incorrect analysis."
   ]
  },
  {
   "cell_type": "code",
   "execution_count": null,
   "id": "c56ec325",
   "metadata": {},
   "outputs": [],
   "source": []
  }
 ],
 "metadata": {
  "kernelspec": {
   "display_name": "Python 3",
   "language": "python",
   "name": "python3"
  },
  "language_info": {
   "codemirror_mode": {
    "name": "ipython",
    "version": 3
   },
   "file_extension": ".py",
   "mimetype": "text/x-python",
   "name": "python",
   "nbconvert_exporter": "python",
   "pygments_lexer": "ipython3",
   "version": "3.8.8"
  }
 },
 "nbformat": 4,
 "nbformat_minor": 5
}
